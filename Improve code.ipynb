{
 "cells": [
  {
   "cell_type": "code",
   "execution_count": 1,
   "id": "06847d69-786e-47fd-b5f3-85365da8842a",
   "metadata": {},
   "outputs": [],
   "source": [
    "import boto3\n",
    "import pandas as pd\n",
    "from io import StringIO, BytesIO\n",
    "from datetime import datetime, timedelta"
   ]
  },
  {
   "cell_type": "code",
   "execution_count": null,
   "id": "2b324239-5e3b-478d-a4a4-86bd519bcf07",
   "metadata": {},
   "outputs": [],
   "source": []
  },
  {
   "cell_type": "code",
   "execution_count": 4,
   "id": "6d095aa5-a716-4b03-ae5a-f3b226da3a13",
   "metadata": {},
   "outputs": [],
   "source": [
    "arg_date = '2022-01-04'\n",
    "src_format = '%Y-%m-%d'\n",
    "src_bucket = 'demo-s3-nhhung2'\n",
    "trg_bucket = 'xetra-112233'\n",
    "columns = ['ISIN', 'Date', 'Time', 'StartPrice', 'MaxPrice', 'MinPrice', 'EndPrice', 'TradedVolume']\n",
    "key = 'xetra_daily_report_' + datetime.today().strftime(\"%Y%m%d_%H%M%S\") + '.parquet'"
   ]
  },
  {
   "cell_type": "code",
   "execution_count": 3,
   "id": "f728bede-9b1c-4fd9-ab64-0e10629aea18",
   "metadata": {},
   "outputs": [],
   "source": [
    "arg_date= '2022-01-03'"
   ]
  },
  {
   "cell_type": "code",
   "execution_count": 5,
   "id": "7a9d0956-6634-42ef-8f76-826e5b2d787d",
   "metadata": {},
   "outputs": [],
   "source": [
    "arg_date_dt= datetime.strptime(arg_date, src_format).date() - timedelta(days=1)"
   ]
  },
  {
   "cell_type": "code",
   "execution_count": 6,
   "id": "c206d15a-7c31-4a0b-8efe-d3b3f668edf1",
   "metadata": {},
   "outputs": [],
   "source": [
    "s3 = boto3.resource('s3')\n",
    "bucket = s3.Bucket(src_bucket)\n",
    "objects = [obj for obj in bucket.objects.all() if datetime.strptime(obj.key.split('/')[1], src_format).date() >= arg_date_dt]"
   ]
  },
  {
   "cell_type": "code",
   "execution_count": 7,
   "id": "2c02f6ef-1830-479f-914c-3e5a4f09ad7f",
   "metadata": {},
   "outputs": [
    {
     "data": {
      "text/plain": [
       "[s3.ObjectSummary(bucket_name='demo-s3-nhhung2', key='data/2022-01-03/2022-01-03_BINS_XETR08.csv'),\n",
       " s3.ObjectSummary(bucket_name='demo-s3-nhhung2', key='data/2022-01-03/2022-01-03_BINS_XETR09.csv'),\n",
       " s3.ObjectSummary(bucket_name='demo-s3-nhhung2', key='data/2022-01-03/2022-01-03_BINS_XETR10.csv'),\n",
       " s3.ObjectSummary(bucket_name='demo-s3-nhhung2', key='data/2022-01-03/2022-01-03_BINS_XETR11.csv'),\n",
       " s3.ObjectSummary(bucket_name='demo-s3-nhhung2', key='data/2022-01-03/2022-01-03_BINS_XETR12.csv'),\n",
       " s3.ObjectSummary(bucket_name='demo-s3-nhhung2', key='data/2022-01-03/2022-01-03_BINS_XETR13.csv'),\n",
       " s3.ObjectSummary(bucket_name='demo-s3-nhhung2', key='data/2022-01-03/2022-01-03_BINS_XETR14.csv'),\n",
       " s3.ObjectSummary(bucket_name='demo-s3-nhhung2', key='data/2022-01-03/2022-01-03_BINS_XETR15.csv'),\n",
       " s3.ObjectSummary(bucket_name='demo-s3-nhhung2', key='data/2022-01-03/2022-01-03_BINS_XETR16.csv'),\n",
       " s3.ObjectSummary(bucket_name='demo-s3-nhhung2', key='data/2022-01-04/2022-01-04_BINS_XETR08.csv'),\n",
       " s3.ObjectSummary(bucket_name='demo-s3-nhhung2', key='data/2022-01-04/2022-01-04_BINS_XETR09.csv'),\n",
       " s3.ObjectSummary(bucket_name='demo-s3-nhhung2', key='data/2022-01-04/2022-01-04_BINS_XETR10.csv'),\n",
       " s3.ObjectSummary(bucket_name='demo-s3-nhhung2', key='data/2022-01-04/2022-01-04_BINS_XETR11.csv'),\n",
       " s3.ObjectSummary(bucket_name='demo-s3-nhhung2', key='data/2022-01-04/2022-01-04_BINS_XETR12.csv'),\n",
       " s3.ObjectSummary(bucket_name='demo-s3-nhhung2', key='data/2022-01-04/2022-01-04_BINS_XETR13.csv'),\n",
       " s3.ObjectSummary(bucket_name='demo-s3-nhhung2', key='data/2022-01-04/2022-01-04_BINS_XETR14.csv'),\n",
       " s3.ObjectSummary(bucket_name='demo-s3-nhhung2', key='data/2022-01-04/2022-01-04_BINS_XETR15.csv'),\n",
       " s3.ObjectSummary(bucket_name='demo-s3-nhhung2', key='data/2022-01-04/2022-01-04_BINS_XETR16.csv'),\n",
       " s3.ObjectSummary(bucket_name='demo-s3-nhhung2', key='data/2022-01-05/2022-01-05_BINS_XETR08.csv'),\n",
       " s3.ObjectSummary(bucket_name='demo-s3-nhhung2', key='data/2022-01-05/2022-01-05_BINS_XETR09.csv'),\n",
       " s3.ObjectSummary(bucket_name='demo-s3-nhhung2', key='data/2022-01-05/2022-01-05_BINS_XETR10.csv'),\n",
       " s3.ObjectSummary(bucket_name='demo-s3-nhhung2', key='data/2022-01-05/2022-01-05_BINS_XETR11.csv'),\n",
       " s3.ObjectSummary(bucket_name='demo-s3-nhhung2', key='data/2022-01-05/2022-01-05_BINS_XETR12.csv'),\n",
       " s3.ObjectSummary(bucket_name='demo-s3-nhhung2', key='data/2022-01-05/2022-01-05_BINS_XETR13.csv'),\n",
       " s3.ObjectSummary(bucket_name='demo-s3-nhhung2', key='data/2022-01-05/2022-01-05_BINS_XETR14.csv'),\n",
       " s3.ObjectSummary(bucket_name='demo-s3-nhhung2', key='data/2022-01-05/2022-01-05_BINS_XETR15.csv'),\n",
       " s3.ObjectSummary(bucket_name='demo-s3-nhhung2', key='data/2022-01-05/2022-01-05_BINS_XETR16.csv'),\n",
       " s3.ObjectSummary(bucket_name='demo-s3-nhhung2', key='data/2022-01-06/2022-01-06_BINS_XETR08.csv'),\n",
       " s3.ObjectSummary(bucket_name='demo-s3-nhhung2', key='data/2022-01-06/2022-01-06_BINS_XETR09.csv'),\n",
       " s3.ObjectSummary(bucket_name='demo-s3-nhhung2', key='data/2022-01-06/2022-01-06_BINS_XETR10.csv'),\n",
       " s3.ObjectSummary(bucket_name='demo-s3-nhhung2', key='data/2022-01-06/2022-01-06_BINS_XETR11.csv'),\n",
       " s3.ObjectSummary(bucket_name='demo-s3-nhhung2', key='data/2022-01-06/2022-01-06_BINS_XETR12.csv'),\n",
       " s3.ObjectSummary(bucket_name='demo-s3-nhhung2', key='data/2022-01-06/2022-01-06_BINS_XETR13.csv'),\n",
       " s3.ObjectSummary(bucket_name='demo-s3-nhhung2', key='data/2022-01-06/2022-01-06_BINS_XETR14.csv'),\n",
       " s3.ObjectSummary(bucket_name='demo-s3-nhhung2', key='data/2022-01-06/2022-01-06_BINS_XETR15.csv'),\n",
       " s3.ObjectSummary(bucket_name='demo-s3-nhhung2', key='data/2022-01-06/2022-01-06_BINS_XETR16.csv'),\n",
       " s3.ObjectSummary(bucket_name='demo-s3-nhhung2', key='data/2022-01-07/2022-01-07_BINS_XETR08.csv'),\n",
       " s3.ObjectSummary(bucket_name='demo-s3-nhhung2', key='data/2022-01-07/2022-01-07_BINS_XETR09.csv'),\n",
       " s3.ObjectSummary(bucket_name='demo-s3-nhhung2', key='data/2022-01-07/2022-01-07_BINS_XETR10.csv'),\n",
       " s3.ObjectSummary(bucket_name='demo-s3-nhhung2', key='data/2022-01-07/2022-01-07_BINS_XETR11.csv'),\n",
       " s3.ObjectSummary(bucket_name='demo-s3-nhhung2', key='data/2022-01-07/2022-01-07_BINS_XETR12.csv'),\n",
       " s3.ObjectSummary(bucket_name='demo-s3-nhhung2', key='data/2022-01-07/2022-01-07_BINS_XETR13.csv'),\n",
       " s3.ObjectSummary(bucket_name='demo-s3-nhhung2', key='data/2022-01-07/2022-01-07_BINS_XETR14.csv'),\n",
       " s3.ObjectSummary(bucket_name='demo-s3-nhhung2', key='data/2022-01-07/2022-01-07_BINS_XETR15.csv'),\n",
       " s3.ObjectSummary(bucket_name='demo-s3-nhhung2', key='data/2022-01-07/2022-01-07_BINS_XETR16.csv'),\n",
       " s3.ObjectSummary(bucket_name='demo-s3-nhhung2', key='data/2022-01-10/2022-01-10_BINS_XETR08.csv'),\n",
       " s3.ObjectSummary(bucket_name='demo-s3-nhhung2', key='data/2022-01-10/2022-01-10_BINS_XETR09.csv'),\n",
       " s3.ObjectSummary(bucket_name='demo-s3-nhhung2', key='data/2022-01-10/2022-01-10_BINS_XETR10.csv'),\n",
       " s3.ObjectSummary(bucket_name='demo-s3-nhhung2', key='data/2022-01-10/2022-01-10_BINS_XETR11.csv'),\n",
       " s3.ObjectSummary(bucket_name='demo-s3-nhhung2', key='data/2022-01-10/2022-01-10_BINS_XETR12.csv'),\n",
       " s3.ObjectSummary(bucket_name='demo-s3-nhhung2', key='data/2022-01-10/2022-01-10_BINS_XETR13.csv'),\n",
       " s3.ObjectSummary(bucket_name='demo-s3-nhhung2', key='data/2022-01-10/2022-01-10_BINS_XETR14.csv'),\n",
       " s3.ObjectSummary(bucket_name='demo-s3-nhhung2', key='data/2022-01-10/2022-01-10_BINS_XETR15.csv'),\n",
       " s3.ObjectSummary(bucket_name='demo-s3-nhhung2', key='data/2022-01-10/2022-01-10_BINS_XETR16.csv'),\n",
       " s3.ObjectSummary(bucket_name='demo-s3-nhhung2', key='data/2022-01-11/2022-01-11_BINS_XETR08.csv'),\n",
       " s3.ObjectSummary(bucket_name='demo-s3-nhhung2', key='data/2022-01-11/2022-01-11_BINS_XETR09.csv'),\n",
       " s3.ObjectSummary(bucket_name='demo-s3-nhhung2', key='data/2022-01-11/2022-01-11_BINS_XETR10.csv'),\n",
       " s3.ObjectSummary(bucket_name='demo-s3-nhhung2', key='data/2022-01-11/2022-01-11_BINS_XETR11.csv'),\n",
       " s3.ObjectSummary(bucket_name='demo-s3-nhhung2', key='data/2022-01-11/2022-01-11_BINS_XETR12.csv'),\n",
       " s3.ObjectSummary(bucket_name='demo-s3-nhhung2', key='data/2022-01-11/2022-01-11_BINS_XETR13.csv'),\n",
       " s3.ObjectSummary(bucket_name='demo-s3-nhhung2', key='data/2022-01-11/2022-01-11_BINS_XETR14.csv'),\n",
       " s3.ObjectSummary(bucket_name='demo-s3-nhhung2', key='data/2022-01-11/2022-01-11_BINS_XETR15.csv'),\n",
       " s3.ObjectSummary(bucket_name='demo-s3-nhhung2', key='data/2022-01-11/2022-01-11_BINS_XETR16.csv'),\n",
       " s3.ObjectSummary(bucket_name='demo-s3-nhhung2', key='data/2022-01-12/2022-01-12_BINS_XETR08.csv'),\n",
       " s3.ObjectSummary(bucket_name='demo-s3-nhhung2', key='data/2022-01-12/2022-01-12_BINS_XETR09.csv'),\n",
       " s3.ObjectSummary(bucket_name='demo-s3-nhhung2', key='data/2022-01-12/2022-01-12_BINS_XETR10.csv'),\n",
       " s3.ObjectSummary(bucket_name='demo-s3-nhhung2', key='data/2022-01-12/2022-01-12_BINS_XETR11.csv'),\n",
       " s3.ObjectSummary(bucket_name='demo-s3-nhhung2', key='data/2022-01-12/2022-01-12_BINS_XETR12.csv'),\n",
       " s3.ObjectSummary(bucket_name='demo-s3-nhhung2', key='data/2022-01-12/2022-01-12_BINS_XETR13.csv'),\n",
       " s3.ObjectSummary(bucket_name='demo-s3-nhhung2', key='data/2022-01-12/2022-01-12_BINS_XETR14.csv'),\n",
       " s3.ObjectSummary(bucket_name='demo-s3-nhhung2', key='data/2022-01-12/2022-01-12_BINS_XETR15.csv'),\n",
       " s3.ObjectSummary(bucket_name='demo-s3-nhhung2', key='data/2022-01-12/2022-01-12_BINS_XETR16.csv'),\n",
       " s3.ObjectSummary(bucket_name='demo-s3-nhhung2', key='data/2022-01-13/2022-01-13_BINS_XETR08.csv'),\n",
       " s3.ObjectSummary(bucket_name='demo-s3-nhhung2', key='data/2022-01-13/2022-01-13_BINS_XETR09.csv'),\n",
       " s3.ObjectSummary(bucket_name='demo-s3-nhhung2', key='data/2022-01-13/2022-01-13_BINS_XETR10.csv'),\n",
       " s3.ObjectSummary(bucket_name='demo-s3-nhhung2', key='data/2022-01-13/2022-01-13_BINS_XETR11.csv'),\n",
       " s3.ObjectSummary(bucket_name='demo-s3-nhhung2', key='data/2022-01-13/2022-01-13_BINS_XETR12.csv'),\n",
       " s3.ObjectSummary(bucket_name='demo-s3-nhhung2', key='data/2022-01-13/2022-01-13_BINS_XETR13.csv'),\n",
       " s3.ObjectSummary(bucket_name='demo-s3-nhhung2', key='data/2022-01-13/2022-01-13_BINS_XETR14.csv'),\n",
       " s3.ObjectSummary(bucket_name='demo-s3-nhhung2', key='data/2022-01-13/2022-01-13_BINS_XETR15.csv'),\n",
       " s3.ObjectSummary(bucket_name='demo-s3-nhhung2', key='data/2022-01-13/2022-01-13_BINS_XETR16.csv'),\n",
       " s3.ObjectSummary(bucket_name='demo-s3-nhhung2', key='data/2022-01-14/2022-01-14_BINS_XETR08.csv'),\n",
       " s3.ObjectSummary(bucket_name='demo-s3-nhhung2', key='data/2022-01-14/2022-01-14_BINS_XETR09.csv'),\n",
       " s3.ObjectSummary(bucket_name='demo-s3-nhhung2', key='data/2022-01-14/2022-01-14_BINS_XETR10.csv'),\n",
       " s3.ObjectSummary(bucket_name='demo-s3-nhhung2', key='data/2022-01-14/2022-01-14_BINS_XETR11.csv'),\n",
       " s3.ObjectSummary(bucket_name='demo-s3-nhhung2', key='data/2022-01-14/2022-01-14_BINS_XETR12.csv'),\n",
       " s3.ObjectSummary(bucket_name='demo-s3-nhhung2', key='data/2022-01-14/2022-01-14_BINS_XETR13.csv'),\n",
       " s3.ObjectSummary(bucket_name='demo-s3-nhhung2', key='data/2022-01-14/2022-01-14_BINS_XETR14.csv'),\n",
       " s3.ObjectSummary(bucket_name='demo-s3-nhhung2', key='data/2022-01-14/2022-01-14_BINS_XETR15.csv'),\n",
       " s3.ObjectSummary(bucket_name='demo-s3-nhhung2', key='data/2022-01-14/2022-01-14_BINS_XETR16.csv'),\n",
       " s3.ObjectSummary(bucket_name='demo-s3-nhhung2', key='data/2022-01-17/2022-01-17_BINS_XETR08.csv'),\n",
       " s3.ObjectSummary(bucket_name='demo-s3-nhhung2', key='data/2022-01-17/2022-01-17_BINS_XETR09.csv'),\n",
       " s3.ObjectSummary(bucket_name='demo-s3-nhhung2', key='data/2022-01-17/2022-01-17_BINS_XETR10.csv'),\n",
       " s3.ObjectSummary(bucket_name='demo-s3-nhhung2', key='data/2022-01-17/2022-01-17_BINS_XETR11.csv'),\n",
       " s3.ObjectSummary(bucket_name='demo-s3-nhhung2', key='data/2022-01-17/2022-01-17_BINS_XETR12.csv'),\n",
       " s3.ObjectSummary(bucket_name='demo-s3-nhhung2', key='data/2022-01-17/2022-01-17_BINS_XETR13.csv'),\n",
       " s3.ObjectSummary(bucket_name='demo-s3-nhhung2', key='data/2022-01-17/2022-01-17_BINS_XETR14.csv'),\n",
       " s3.ObjectSummary(bucket_name='demo-s3-nhhung2', key='data/2022-01-17/2022-01-17_BINS_XETR15.csv'),\n",
       " s3.ObjectSummary(bucket_name='demo-s3-nhhung2', key='data/2022-01-17/2022-01-17_BINS_XETR16.csv'),\n",
       " s3.ObjectSummary(bucket_name='demo-s3-nhhung2', key='data/2022-01-18/2022-01-18_BINS_XETR08.csv'),\n",
       " s3.ObjectSummary(bucket_name='demo-s3-nhhung2', key='data/2022-01-18/2022-01-18_BINS_XETR09.csv'),\n",
       " s3.ObjectSummary(bucket_name='demo-s3-nhhung2', key='data/2022-01-18/2022-01-18_BINS_XETR10.csv'),\n",
       " s3.ObjectSummary(bucket_name='demo-s3-nhhung2', key='data/2022-01-18/2022-01-18_BINS_XETR11.csv'),\n",
       " s3.ObjectSummary(bucket_name='demo-s3-nhhung2', key='data/2022-01-18/2022-01-18_BINS_XETR12.csv'),\n",
       " s3.ObjectSummary(bucket_name='demo-s3-nhhung2', key='data/2022-01-18/2022-01-18_BINS_XETR13.csv'),\n",
       " s3.ObjectSummary(bucket_name='demo-s3-nhhung2', key='data/2022-01-18/2022-01-18_BINS_XETR14.csv'),\n",
       " s3.ObjectSummary(bucket_name='demo-s3-nhhung2', key='data/2022-01-18/2022-01-18_BINS_XETR15.csv'),\n",
       " s3.ObjectSummary(bucket_name='demo-s3-nhhung2', key='data/2022-01-18/2022-01-18_BINS_XETR16.csv'),\n",
       " s3.ObjectSummary(bucket_name='demo-s3-nhhung2', key='data/2022-01-19/2022-01-19_BINS_XETR08.csv'),\n",
       " s3.ObjectSummary(bucket_name='demo-s3-nhhung2', key='data/2022-01-19/2022-01-19_BINS_XETR09.csv'),\n",
       " s3.ObjectSummary(bucket_name='demo-s3-nhhung2', key='data/2022-01-19/2022-01-19_BINS_XETR10.csv'),\n",
       " s3.ObjectSummary(bucket_name='demo-s3-nhhung2', key='data/2022-01-19/2022-01-19_BINS_XETR11.csv'),\n",
       " s3.ObjectSummary(bucket_name='demo-s3-nhhung2', key='data/2022-01-19/2022-01-19_BINS_XETR12.csv'),\n",
       " s3.ObjectSummary(bucket_name='demo-s3-nhhung2', key='data/2022-01-19/2022-01-19_BINS_XETR13.csv'),\n",
       " s3.ObjectSummary(bucket_name='demo-s3-nhhung2', key='data/2022-01-19/2022-01-19_BINS_XETR14.csv'),\n",
       " s3.ObjectSummary(bucket_name='demo-s3-nhhung2', key='data/2022-01-19/2022-01-19_BINS_XETR15.csv'),\n",
       " s3.ObjectSummary(bucket_name='demo-s3-nhhung2', key='data/2022-01-19/2022-01-19_BINS_XETR16.csv'),\n",
       " s3.ObjectSummary(bucket_name='demo-s3-nhhung2', key='data/2022-01-20/2022-01-20_BINS_XETR08.csv'),\n",
       " s3.ObjectSummary(bucket_name='demo-s3-nhhung2', key='data/2022-01-20/2022-01-20_BINS_XETR09.csv'),\n",
       " s3.ObjectSummary(bucket_name='demo-s3-nhhung2', key='data/2022-01-20/2022-01-20_BINS_XETR10.csv'),\n",
       " s3.ObjectSummary(bucket_name='demo-s3-nhhung2', key='data/2022-01-20/2022-01-20_BINS_XETR11.csv'),\n",
       " s3.ObjectSummary(bucket_name='demo-s3-nhhung2', key='data/2022-01-20/2022-01-20_BINS_XETR12.csv'),\n",
       " s3.ObjectSummary(bucket_name='demo-s3-nhhung2', key='data/2022-01-20/2022-01-20_BINS_XETR13.csv'),\n",
       " s3.ObjectSummary(bucket_name='demo-s3-nhhung2', key='data/2022-01-20/2022-01-20_BINS_XETR14.csv'),\n",
       " s3.ObjectSummary(bucket_name='demo-s3-nhhung2', key='data/2022-01-20/2022-01-20_BINS_XETR15.csv'),\n",
       " s3.ObjectSummary(bucket_name='demo-s3-nhhung2', key='data/2022-01-20/2022-01-20_BINS_XETR16.csv'),\n",
       " s3.ObjectSummary(bucket_name='demo-s3-nhhung2', key='data/2022-01-21/2022-01-21_BINS_XETR08.csv'),\n",
       " s3.ObjectSummary(bucket_name='demo-s3-nhhung2', key='data/2022-01-21/2022-01-21_BINS_XETR09.csv'),\n",
       " s3.ObjectSummary(bucket_name='demo-s3-nhhung2', key='data/2022-01-21/2022-01-21_BINS_XETR10.csv'),\n",
       " s3.ObjectSummary(bucket_name='demo-s3-nhhung2', key='data/2022-01-21/2022-01-21_BINS_XETR11.csv'),\n",
       " s3.ObjectSummary(bucket_name='demo-s3-nhhung2', key='data/2022-01-21/2022-01-21_BINS_XETR12.csv'),\n",
       " s3.ObjectSummary(bucket_name='demo-s3-nhhung2', key='data/2022-01-21/2022-01-21_BINS_XETR13.csv'),\n",
       " s3.ObjectSummary(bucket_name='demo-s3-nhhung2', key='data/2022-01-21/2022-01-21_BINS_XETR14.csv'),\n",
       " s3.ObjectSummary(bucket_name='demo-s3-nhhung2', key='data/2022-01-21/2022-01-21_BINS_XETR15.csv'),\n",
       " s3.ObjectSummary(bucket_name='demo-s3-nhhung2', key='data/2022-01-21/2022-01-21_BINS_XETR16.csv'),\n",
       " s3.ObjectSummary(bucket_name='demo-s3-nhhung2', key='data/2022-01-24/2022-01-24_BINS_XETR08.csv'),\n",
       " s3.ObjectSummary(bucket_name='demo-s3-nhhung2', key='data/2022-01-24/2022-01-24_BINS_XETR09.csv'),\n",
       " s3.ObjectSummary(bucket_name='demo-s3-nhhung2', key='data/2022-01-24/2022-01-24_BINS_XETR10.csv'),\n",
       " s3.ObjectSummary(bucket_name='demo-s3-nhhung2', key='data/2022-01-24/2022-01-24_BINS_XETR11.csv'),\n",
       " s3.ObjectSummary(bucket_name='demo-s3-nhhung2', key='data/2022-01-24/2022-01-24_BINS_XETR12.csv'),\n",
       " s3.ObjectSummary(bucket_name='demo-s3-nhhung2', key='data/2022-01-24/2022-01-24_BINS_XETR13.csv'),\n",
       " s3.ObjectSummary(bucket_name='demo-s3-nhhung2', key='data/2022-01-24/2022-01-24_BINS_XETR14.csv'),\n",
       " s3.ObjectSummary(bucket_name='demo-s3-nhhung2', key='data/2022-01-24/2022-01-24_BINS_XETR15.csv'),\n",
       " s3.ObjectSummary(bucket_name='demo-s3-nhhung2', key='data/2022-01-24/2022-01-24_BINS_XETR16.csv'),\n",
       " s3.ObjectSummary(bucket_name='demo-s3-nhhung2', key='data/2022-01-25/2022-01-25_BINS_XETR08.csv'),\n",
       " s3.ObjectSummary(bucket_name='demo-s3-nhhung2', key='data/2022-01-25/2022-01-25_BINS_XETR09.csv'),\n",
       " s3.ObjectSummary(bucket_name='demo-s3-nhhung2', key='data/2022-01-25/2022-01-25_BINS_XETR10.csv'),\n",
       " s3.ObjectSummary(bucket_name='demo-s3-nhhung2', key='data/2022-01-25/2022-01-25_BINS_XETR11.csv'),\n",
       " s3.ObjectSummary(bucket_name='demo-s3-nhhung2', key='data/2022-01-25/2022-01-25_BINS_XETR12.csv'),\n",
       " s3.ObjectSummary(bucket_name='demo-s3-nhhung2', key='data/2022-01-25/2022-01-25_BINS_XETR13.csv'),\n",
       " s3.ObjectSummary(bucket_name='demo-s3-nhhung2', key='data/2022-01-25/2022-01-25_BINS_XETR14.csv'),\n",
       " s3.ObjectSummary(bucket_name='demo-s3-nhhung2', key='data/2022-01-25/2022-01-25_BINS_XETR15.csv'),\n",
       " s3.ObjectSummary(bucket_name='demo-s3-nhhung2', key='data/2022-01-25/2022-01-25_BINS_XETR16.csv')]"
      ]
     },
     "execution_count": 7,
     "metadata": {},
     "output_type": "execute_result"
    }
   ],
   "source": [
    "objects"
   ]
  },
  {
   "cell_type": "code",
   "execution_count": 8,
   "id": "009cde5d-a72a-416e-8ba0-9ff502463f69",
   "metadata": {},
   "outputs": [],
   "source": [
    "def csv_to_df(filename):\n",
    "    csv_obj = bucket.Object(key=filename).get().get('Body').read().decode('utf-8')\n",
    "    data = StringIO(csv_obj)\n",
    "    df = pd.read_csv(data, delimiter=',')\n",
    "    return df\n",
    "df_all = pd.concat([csv_to_df(obj.key) for obj in objects], ignore_index=True)"
   ]
  },
  {
   "cell_type": "code",
   "execution_count": 9,
   "id": "c2e30aca-ef1c-4b8b-a741-362974afa843",
   "metadata": {},
   "outputs": [],
   "source": [
    "df_all = df_all.loc[:, columns]"
   ]
  },
  {
   "cell_type": "code",
   "execution_count": 10,
   "id": "b848a449-0e75-4eec-b522-ddd40b026c63",
   "metadata": {},
   "outputs": [],
   "source": [
    "df_all.dropna(inplace=True)"
   ]
  },
  {
   "cell_type": "code",
   "execution_count": 11,
   "id": "e7a93e03-f458-413a-826e-bf9a709e1b9a",
   "metadata": {},
   "outputs": [],
   "source": [
    "df_all['opening_price'] = df_all.sort_values(by=['Time']).groupby(['ISIN', 'Date'])['StartPrice'].transform('first')"
   ]
  },
  {
   "cell_type": "code",
   "execution_count": 12,
   "id": "9721bcef-83e8-4976-b0b0-af00d33ffe02",
   "metadata": {},
   "outputs": [],
   "source": [
    "df_all['closing_price'] = df_all.sort_values(by=['Time']).groupby(['ISIN', 'Date'])['StartPrice'].transform('last')"
   ]
  },
  {
   "cell_type": "code",
   "execution_count": 13,
   "id": "29b196e4-300c-4128-8305-1577145fc321",
   "metadata": {},
   "outputs": [],
   "source": [
    "df_all = df_all.groupby(['ISIN', 'Date'], as_index=False).agg(opening_price_eur=('opening_price', 'min'), closing_price_eur=('closing_price', 'min'), minimum_price_eur=('MinPrice', 'min'), maximum_price_eur=('MaxPrice', 'max'), daily_traded_volume=('TradedVolume', 'sum'))"
   ]
  },
  {
   "cell_type": "code",
   "execution_count": 14,
   "id": "6fe7959e-abcc-4cae-821f-ba71cac3f55c",
   "metadata": {},
   "outputs": [],
   "source": [
    "df_all['prev_closing_price'] = df_all.sort_values(by=['Date']).groupby(['ISIN'])['closing_price_eur'].shift(1)"
   ]
  },
  {
   "cell_type": "code",
   "execution_count": 15,
   "id": "15d3a0ab-53b9-4837-ae5d-3b269e8c027a",
   "metadata": {},
   "outputs": [],
   "source": [
    "df_all['change_prev_closing_%'] = (df_all['closing_price_eur'] - df_all['prev_closing_price']) / df_all['prev_closing_price'] * 100"
   ]
  },
  {
   "cell_type": "code",
   "execution_count": 16,
   "id": "8313bea9-5ea9-4e66-9c31-6647d216dabc",
   "metadata": {},
   "outputs": [],
   "source": [
    "df_all.drop(columns=['prev_closing_price'], inplace=True)"
   ]
  },
  {
   "cell_type": "code",
   "execution_count": 17,
   "id": "6e03cb36-658b-4d3c-92e5-955415141d87",
   "metadata": {},
   "outputs": [],
   "source": [
    "df_all = df_all.round(decimals=2)"
   ]
  },
  {
   "cell_type": "code",
   "execution_count": 18,
   "id": "d37bad6c-5c6e-4468-83a7-2f2171da986d",
   "metadata": {},
   "outputs": [],
   "source": [
    "df_all = df_all[df_all.Date >= arg_date]"
   ]
  },
  {
   "cell_type": "code",
   "execution_count": 19,
   "id": "f71d5ce2-8d6f-4162-b8db-a5088358cf0c",
   "metadata": {},
   "outputs": [],
   "source": [
    "from io import BytesIO"
   ]
  },
  {
   "cell_type": "code",
   "execution_count": 20,
   "id": "14b3f663-1066-4ff1-9a84-00ac17e2db68",
   "metadata": {},
   "outputs": [
    {
     "data": {
      "text/plain": [
       "s3.Object(bucket_name='xetra-112233', key='xetra_daily_report_20240122_202734.parquet')"
      ]
     },
     "execution_count": 20,
     "metadata": {},
     "output_type": "execute_result"
    }
   ],
   "source": [
    "out_buffer = BytesIO()\n",
    "df_all.to_parquet(out_buffer, index=False)\n",
    "bucket_target = s3.Bucket(trg_bucket)\n",
    "bucket_target.put_object(Body=out_buffer.getvalue(), Key=key)"
   ]
  },
  {
   "cell_type": "code",
   "execution_count": 24,
   "id": "5752b377-d621-494a-bf26-338602690d14",
   "metadata": {},
   "outputs": [
    {
     "name": "stdout",
     "output_type": "stream",
     "text": [
      "meta_file.csv\n",
      "xetra_daily_report_20231216_105737.parquet\n",
      "xetra_daily_report_20231216_171323.parquet\n",
      "xetra_daily_report_20231218_160058.parquet\n",
      "xetra_daily_report_20240122_202734.parquet\n"
     ]
    }
   ],
   "source": [
    "for obj in bucket_target.objects.all():\n",
    "    print(obj.key)"
   ]
  },
  {
   "cell_type": "code",
   "execution_count": 25,
   "id": "95991912-f335-4a7a-a009-c5f25365fa40",
   "metadata": {},
   "outputs": [],
   "source": [
    "prq_obj = bucket_target.Object(key='xetra_daily_report_20240122_202734.parquet').get().get('Body').read()\n",
    "data = BytesIO(prq_obj)\n",
    "df_report = pd.read_parquet(data)\n"
   ]
  },
  {
   "cell_type": "code",
   "execution_count": 26,
   "id": "7f52de79-d52f-493d-b767-107eeb866fe8",
   "metadata": {},
   "outputs": [
    {
     "data": {
      "text/html": [
       "<div>\n",
       "<style scoped>\n",
       "    .dataframe tbody tr th:only-of-type {\n",
       "        vertical-align: middle;\n",
       "    }\n",
       "\n",
       "    .dataframe tbody tr th {\n",
       "        vertical-align: top;\n",
       "    }\n",
       "\n",
       "    .dataframe thead th {\n",
       "        text-align: right;\n",
       "    }\n",
       "</style>\n",
       "<table border=\"1\" class=\"dataframe\">\n",
       "  <thead>\n",
       "    <tr style=\"text-align: right;\">\n",
       "      <th></th>\n",
       "      <th>ISIN</th>\n",
       "      <th>Date</th>\n",
       "      <th>opening_price_eur</th>\n",
       "      <th>closing_price_eur</th>\n",
       "      <th>minimum_price_eur</th>\n",
       "      <th>maximum_price_eur</th>\n",
       "      <th>daily_traded_volume</th>\n",
       "      <th>change_prev_closing_%</th>\n",
       "    </tr>\n",
       "  </thead>\n",
       "  <tbody>\n",
       "    <tr>\n",
       "      <th>0</th>\n",
       "      <td>AT000000STR1</td>\n",
       "      <td>2022-01-04</td>\n",
       "      <td>37.75</td>\n",
       "      <td>37.85</td>\n",
       "      <td>37.75</td>\n",
       "      <td>37.85</td>\n",
       "      <td>27</td>\n",
       "      <td>1.20</td>\n",
       "    </tr>\n",
       "    <tr>\n",
       "      <th>1</th>\n",
       "      <td>AT000000STR1</td>\n",
       "      <td>2022-01-05</td>\n",
       "      <td>37.70</td>\n",
       "      <td>37.20</td>\n",
       "      <td>37.20</td>\n",
       "      <td>37.70</td>\n",
       "      <td>800</td>\n",
       "      <td>-1.72</td>\n",
       "    </tr>\n",
       "    <tr>\n",
       "      <th>2</th>\n",
       "      <td>AT000000STR1</td>\n",
       "      <td>2022-01-06</td>\n",
       "      <td>36.60</td>\n",
       "      <td>37.30</td>\n",
       "      <td>36.60</td>\n",
       "      <td>37.30</td>\n",
       "      <td>140</td>\n",
       "      <td>0.27</td>\n",
       "    </tr>\n",
       "    <tr>\n",
       "      <th>3</th>\n",
       "      <td>AT000000STR1</td>\n",
       "      <td>2022-01-07</td>\n",
       "      <td>36.85</td>\n",
       "      <td>37.35</td>\n",
       "      <td>36.85</td>\n",
       "      <td>37.35</td>\n",
       "      <td>475</td>\n",
       "      <td>0.13</td>\n",
       "    </tr>\n",
       "    <tr>\n",
       "      <th>4</th>\n",
       "      <td>AT000000STR1</td>\n",
       "      <td>2022-01-10</td>\n",
       "      <td>37.40</td>\n",
       "      <td>36.60</td>\n",
       "      <td>36.50</td>\n",
       "      <td>37.40</td>\n",
       "      <td>64</td>\n",
       "      <td>-2.01</td>\n",
       "    </tr>\n",
       "    <tr>\n",
       "      <th>...</th>\n",
       "      <td>...</td>\n",
       "      <td>...</td>\n",
       "      <td>...</td>\n",
       "      <td>...</td>\n",
       "      <td>...</td>\n",
       "      <td>...</td>\n",
       "      <td>...</td>\n",
       "      <td>...</td>\n",
       "    </tr>\n",
       "    <tr>\n",
       "      <th>51120</th>\n",
       "      <td>XS2376095068</td>\n",
       "      <td>2022-01-19</td>\n",
       "      <td>36.29</td>\n",
       "      <td>36.76</td>\n",
       "      <td>36.29</td>\n",
       "      <td>37.09</td>\n",
       "      <td>0</td>\n",
       "      <td>0.80</td>\n",
       "    </tr>\n",
       "    <tr>\n",
       "      <th>51121</th>\n",
       "      <td>XS2376095068</td>\n",
       "      <td>2022-01-20</td>\n",
       "      <td>36.89</td>\n",
       "      <td>38.13</td>\n",
       "      <td>36.89</td>\n",
       "      <td>38.13</td>\n",
       "      <td>54</td>\n",
       "      <td>3.74</td>\n",
       "    </tr>\n",
       "    <tr>\n",
       "      <th>51122</th>\n",
       "      <td>XS2376095068</td>\n",
       "      <td>2022-01-21</td>\n",
       "      <td>34.55</td>\n",
       "      <td>34.14</td>\n",
       "      <td>33.98</td>\n",
       "      <td>34.55</td>\n",
       "      <td>1857</td>\n",
       "      <td>-10.47</td>\n",
       "    </tr>\n",
       "    <tr>\n",
       "      <th>51123</th>\n",
       "      <td>XS2376095068</td>\n",
       "      <td>2022-01-24</td>\n",
       "      <td>30.94</td>\n",
       "      <td>30.26</td>\n",
       "      <td>29.39</td>\n",
       "      <td>31.07</td>\n",
       "      <td>5750</td>\n",
       "      <td>-11.35</td>\n",
       "    </tr>\n",
       "    <tr>\n",
       "      <th>51124</th>\n",
       "      <td>XS2376095068</td>\n",
       "      <td>2022-01-25</td>\n",
       "      <td>31.97</td>\n",
       "      <td>32.52</td>\n",
       "      <td>31.97</td>\n",
       "      <td>32.52</td>\n",
       "      <td>0</td>\n",
       "      <td>7.45</td>\n",
       "    </tr>\n",
       "  </tbody>\n",
       "</table>\n",
       "<p>51125 rows × 8 columns</p>\n",
       "</div>"
      ],
      "text/plain": [
       "               ISIN        Date  opening_price_eur  closing_price_eur  \\\n",
       "0      AT000000STR1  2022-01-04              37.75              37.85   \n",
       "1      AT000000STR1  2022-01-05              37.70              37.20   \n",
       "2      AT000000STR1  2022-01-06              36.60              37.30   \n",
       "3      AT000000STR1  2022-01-07              36.85              37.35   \n",
       "4      AT000000STR1  2022-01-10              37.40              36.60   \n",
       "...             ...         ...                ...                ...   \n",
       "51120  XS2376095068  2022-01-19              36.29              36.76   \n",
       "51121  XS2376095068  2022-01-20              36.89              38.13   \n",
       "51122  XS2376095068  2022-01-21              34.55              34.14   \n",
       "51123  XS2376095068  2022-01-24              30.94              30.26   \n",
       "51124  XS2376095068  2022-01-25              31.97              32.52   \n",
       "\n",
       "       minimum_price_eur  maximum_price_eur  daily_traded_volume  \\\n",
       "0                  37.75              37.85                   27   \n",
       "1                  37.20              37.70                  800   \n",
       "2                  36.60              37.30                  140   \n",
       "3                  36.85              37.35                  475   \n",
       "4                  36.50              37.40                   64   \n",
       "...                  ...                ...                  ...   \n",
       "51120              36.29              37.09                    0   \n",
       "51121              36.89              38.13                   54   \n",
       "51122              33.98              34.55                 1857   \n",
       "51123              29.39              31.07                 5750   \n",
       "51124              31.97              32.52                    0   \n",
       "\n",
       "       change_prev_closing_%  \n",
       "0                       1.20  \n",
       "1                      -1.72  \n",
       "2                       0.27  \n",
       "3                       0.13  \n",
       "4                      -2.01  \n",
       "...                      ...  \n",
       "51120                   0.80  \n",
       "51121                   3.74  \n",
       "51122                 -10.47  \n",
       "51123                 -11.35  \n",
       "51124                   7.45  \n",
       "\n",
       "[51125 rows x 8 columns]"
      ]
     },
     "execution_count": 26,
     "metadata": {},
     "output_type": "execute_result"
    }
   ],
   "source": [
    "df_report"
   ]
  }
 ],
 "metadata": {
  "kernelspec": {
   "display_name": "Python 3 (ipykernel)",
   "language": "python",
   "name": "python3"
  },
  "language_info": {
   "codemirror_mode": {
    "name": "ipython",
    "version": 3
   },
   "file_extension": ".py",
   "mimetype": "text/x-python",
   "name": "python",
   "nbconvert_exporter": "python",
   "pygments_lexer": "ipython3",
   "version": "3.9.2"
  }
 },
 "nbformat": 4,
 "nbformat_minor": 5
}
