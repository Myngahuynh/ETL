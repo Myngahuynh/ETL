{
 "cells": [
  {
   "cell_type": "code",
   "execution_count": 32,
   "metadata": {},
   "outputs": [],
   "source": [
    "import boto3\n",
    "import pandas as pd\n",
    "from io import StringIO, BytesIO\n",
    "import os, glob\n",
    "from datetime import datetime, timedelta"
   ]
  },
  {
   "cell_type": "code",
   "execution_count": 33,
   "metadata": {},
   "outputs": [],
   "source": [
    "def read_csv_to_df(bucket, key, encoding = 'utf-8', sep = ','):\n",
    "    csv_obj = bucket.Object(key=key).get().get('Body').read().decode(encoding)\n",
    "    data = StringIO(csv_obj)\n",
    "    df = pd.read_csv(data, delimiter=sep)\n",
    "    return df\n",
    "\n",
    "meta_key = 'meta_file.csv'\n",
    "bucket_name_trg = 'xetra-112233'\n",
    "s3 = boto3.resource('s3')\n",
    "bucket_trg = s3.Bucket(bucket_name_trg)\n",
    "\n",
    "df_meta = read_csv_to_df(bucket_trg, meta_key)"
   ]
  },
  {
   "cell_type": "code",
   "execution_count": 34,
   "metadata": {},
   "outputs": [
    {
     "data": {
      "text/html": [
       "<div>\n",
       "<style scoped>\n",
       "    .dataframe tbody tr th:only-of-type {\n",
       "        vertical-align: middle;\n",
       "    }\n",
       "\n",
       "    .dataframe tbody tr th {\n",
       "        vertical-align: top;\n",
       "    }\n",
       "\n",
       "    .dataframe thead th {\n",
       "        text-align: right;\n",
       "    }\n",
       "</style>\n",
       "<table border=\"1\" class=\"dataframe\">\n",
       "  <thead>\n",
       "    <tr style=\"text-align: right;\">\n",
       "      <th></th>\n",
       "      <th>source_date</th>\n",
       "      <th>datetime_of_processing</th>\n",
       "    </tr>\n",
       "  </thead>\n",
       "  <tbody>\n",
       "    <tr>\n",
       "      <th>0</th>\n",
       "      <td>2021-04-23</td>\n",
       "      <td>2021-04-23 12:33:23</td>\n",
       "    </tr>\n",
       "    <tr>\n",
       "      <th>1</th>\n",
       "      <td>2021-04-21</td>\n",
       "      <td>2021-04-21 12:30:21</td>\n",
       "    </tr>\n",
       "  </tbody>\n",
       "</table>\n",
       "</div>"
      ],
      "text/plain": [
       "  source_date datetime_of_processing\n",
       "0  2021-04-23    2021-04-23 12:33:23\n",
       "1  2021-04-21    2021-04-21 12:30:21"
      ]
     },
     "execution_count": 34,
     "metadata": {},
     "output_type": "execute_result"
    }
   ],
   "source": [
    "df_meta"
   ]
  },
  {
   "cell_type": "code",
   "execution_count": 35,
   "metadata": {},
   "outputs": [],
   "source": [
    "arg_date = '2021-04-23'\n",
    "today_str = '2021-04-25'\n",
    "src_format = '%Y-%m-%d'\n",
    "#start: arg_date - 1 : run from previous 1 day\n",
    "start = datetime.strptime(arg_date, src_format).date() - timedelta(days=1)  \n",
    "today = datetime.strptime(today_str, src_format).date()\n",
    "dates = [start + timedelta(days=x) for x in range(0, (today - start).days + 1)]"
   ]
  },
  {
   "cell_type": "code",
   "execution_count": 36,
   "metadata": {},
   "outputs": [
    {
     "data": {
      "text/plain": [
       "[datetime.date(2021, 4, 22),\n",
       " datetime.date(2021, 4, 23),\n",
       " datetime.date(2021, 4, 24),\n",
       " datetime.date(2021, 4, 25)]"
      ]
     },
     "execution_count": 36,
     "metadata": {},
     "output_type": "execute_result"
    }
   ],
   "source": [
    "dates"
   ]
  },
  {
   "cell_type": "code",
   "execution_count": 37,
   "metadata": {},
   "outputs": [],
   "source": [
    "src_dates = set(pd.to_datetime(df_meta['source_date']).dt.date)"
   ]
  },
  {
   "cell_type": "code",
   "execution_count": 38,
   "metadata": {},
   "outputs": [
    {
     "data": {
      "text/plain": [
       "{datetime.date(2021, 4, 21), datetime.date(2021, 4, 23)}"
      ]
     },
     "execution_count": 38,
     "metadata": {},
     "output_type": "execute_result"
    }
   ],
   "source": [
    "src_dates"
   ]
  },
  {
   "cell_type": "code",
   "execution_count": 39,
   "metadata": {},
   "outputs": [],
   "source": [
    "dates_missing = set(dates[1:]) - src_dates"
   ]
  },
  {
   "cell_type": "code",
   "execution_count": 40,
   "metadata": {},
   "outputs": [
    {
     "data": {
      "text/plain": [
       "{datetime.date(2021, 4, 24), datetime.date(2021, 4, 25)}"
      ]
     },
     "execution_count": 40,
     "metadata": {},
     "output_type": "execute_result"
    }
   ],
   "source": [
    "dates_missing"
   ]
  },
  {
   "cell_type": "code",
   "execution_count": 41,
   "metadata": {},
   "outputs": [
    {
     "data": {
      "text/plain": [
       "datetime.date(2021, 4, 23)"
      ]
     },
     "execution_count": 41,
     "metadata": {},
     "output_type": "execute_result"
    }
   ],
   "source": [
    "min_date = min(set(dates[1:]) - src_dates) - timedelta(days=1)\n",
    "min_date"
   ]
  },
  {
   "cell_type": "code",
   "execution_count": 42,
   "metadata": {},
   "outputs": [],
   "source": [
    "dates_missing = set(dates[1:]) - src_dates\n",
    "if dates_missing:\n",
    "    min_date = min(set(dates[1:]) - src_dates) - timedelta(days=1)\n",
    "    return_dates = [date.strftime('%Y-%m-%d') for date in dates if date >= min_date]\n",
    "    return_min_date = (min_date + timedelta(days=1)).strftime('%Y-%m-%d')\n",
    "else:\n",
    "    return_dates = []\n",
    "    return_min_date = datetime(2200, 1, 1).date()"
   ]
  },
  {
   "cell_type": "code",
   "execution_count": 43,
   "metadata": {},
   "outputs": [
    {
     "data": {
      "text/plain": [
       "['2021-04-23', '2021-04-24', '2021-04-25']"
      ]
     },
     "execution_count": 43,
     "metadata": {},
     "output_type": "execute_result"
    }
   ],
   "source": [
    "return_dates"
   ]
  },
  {
   "cell_type": "code",
   "execution_count": 44,
   "metadata": {},
   "outputs": [
    {
     "data": {
      "text/plain": [
       "'2021-04-24'"
      ]
     },
     "execution_count": 44,
     "metadata": {},
     "output_type": "execute_result"
    }
   ],
   "source": [
    "return_min_date"
   ]
  },
  {
   "cell_type": "code",
   "execution_count": 45,
   "metadata": {},
   "outputs": [],
   "source": [
    "# Adapter Layer\n",
    "\n",
    "def read_csv_to_df(bucket, key, encoding = 'utf-8', sep = ','):\n",
    "    csv_obj = bucket.Object(key=key).get().get('Body').read().decode(encoding)\n",
    "    data = StringIO(csv_obj)\n",
    "    df = pd.read_csv(data, delimiter=sep)\n",
    "    return df\n",
    "\n",
    "def write_df_to_s3(bucket, df, key):\n",
    "    out_buffer = BytesIO()\n",
    "    df.to_parquet(out_buffer, index=False)\n",
    "    bucket.put_object(Body=out_buffer.getvalue(), Key=key)\n",
    "    \n",
    "def list_files_in_prefix(bucket, prefix):\n",
    "    files = [obj.key for obj in bucket.objects.filter(Prefix=prefix)]\n",
    "    return files"
   ]
  },
  {
   "cell_type": "code",
   "execution_count": null,
   "metadata": {},
   "outputs": [],
   "source": []
  },
  {
   "cell_type": "code",
   "execution_count": 46,
   "metadata": {},
   "outputs": [],
   "source": [
    "# Application layer\n",
    "# Core\n",
    "\n",
    "def extract(bucket, date_list):\n",
    "    \n",
    "    def csv_to_df_nb(key):\n",
    "#        print(key)\n",
    "        df = read_csv_to_df(bucket, key)\n",
    "        return df\n",
    "    \n",
    "    files = [key for date in date_list for key in list_files_in_prefix(bucket, date)]\n",
    "    df = pd.concat(map(csv_to_df_nb, files), ignore_index=True)\n",
    "    return df\n",
    "\n",
    "def transform_report1(df, columns, arg_date):\n",
    "    df = df.loc[:, columns]\n",
    "    df.dropna(inplace=True)\n",
    "    df['opening_price'] = df.sort_values(by=['Time']).groupby(['ISIN', 'Date'])['StartPrice'].transform('first')\n",
    "    df['closing_price'] = df.sort_values(by=['Time']).groupby(['ISIN', 'Date'])['StartPrice'].transform('last')\n",
    "    df = df.groupby(['ISIN', 'Date'], as_index=False).agg(opening_price_eur=('opening_price', 'min'), closing_price_eur=('closing_price', 'min'), minimum_price_eur=('MinPrice', 'min'), maximum_price_eur=('MaxPrice', 'max'), daily_traded_volume=('TradedVolume', 'sum'))\n",
    "    df['prev_closing_price'] = df.sort_values(by=['Date']).groupby(['ISIN'])['closing_price_eur'].shift(1)\n",
    "    df['change_prev_closing_%'] = (df['closing_price_eur'] - df['prev_closing_price']) / df['prev_closing_price'] * 100\n",
    "    df.drop(columns=['prev_closing_price'], inplace=True)\n",
    "    df = df.round(decimals=2)\n",
    "    df = df[df.Date >= arg_date]\n",
    "    df.reset_index(inplace=True, drop=True)\n",
    "    return df\n",
    "\n",
    "def load(bucket, df, trg_key, trg_format):\n",
    "    target_key = trg_key + datetime.today().strftime(\"%Y%m%d_%H%M%S\") + trg_format\n",
    "    write_df_to_s3(bucket, df, target_key)\n",
    "    return True\n",
    "\n",
    "def etl_report1(src_bucket, trg_bucket, date_list, trg_key, trg_format, columns, arg_date):\n",
    "    df = extract(src_bucket, date_list)\n",
    "    df = transform_report1(df, columns, arg_date)\n",
    "    load(trg_bucket, df, trg_key, trg_format)\n",
    "    return True"
   ]
  },
  {
   "cell_type": "code",
   "execution_count": 47,
   "metadata": {},
   "outputs": [],
   "source": [
    "# Application Layer - not core\n",
    "\n",
    "def return_date_list(bucket, arg_date):\n",
    "    start = datetime.strptime(arg_date, '%Y-%m-%d').date() - timedelta(days=1)\n",
    "    today = datetime.today().date()\n",
    "    return_date_list = [(start + timedelta(days=x)).strftime('%Y-%m-%d') for x in range(0, (today - start).days + 1)]\n",
    "    return return_date_list"
   ]
  },
  {
   "cell_type": "code",
   "execution_count": 48,
   "metadata": {},
   "outputs": [],
   "source": [
    "# main function entrypoint\n",
    "\n",
    "def main():\n",
    "    \n",
    "    # Parameters/Configurations\n",
    "    # later read config\n",
    "    arg_date = '2022-01-04'\n",
    "    columns = ['ISIN', 'Mnemonic', 'Date', 'Time', 'StartPrice', 'EndPrice', 'MinPrice', 'MaxPrice', 'TradedVolume']\n",
    "    trg_key = 'xetra_daily_report_'\n",
    "    trg_format = '.parquet'\n",
    "    bucket_name_src = 'demo-s3-nhhung2'\n",
    "    bucket_name_trg = 'xetra-112233'\n",
    "    \n",
    "    # Init\n",
    "    s3 = boto3.resource('s3')\n",
    "    bucket_src = s3.Bucket(bucket_name_src)\n",
    "    bucket_trg = s3.Bucket(bucket_name_trg)\n",
    "    \n",
    "    #run application\n",
    "    date_lst = return_date_list(bucket, arg_date)\n",
    "    b=[]\n",
    "    for i in date_lst:\n",
    "        k='data/'+ i;\n",
    "        b.append(k)    \n",
    "    date_list=b    \n",
    "    # date_list = return_date_list(bucket_src, arg_date)\n",
    "    etl_report1(bucket_src, bucket_trg, date_list, trg_key, trg_format, columns, arg_date)"
   ]
  },
  {
   "cell_type": "markdown",
   "metadata": {},
   "source": [
    "TEST"
   ]
  },
  {
   "cell_type": "code",
   "execution_count": 49,
   "metadata": {},
   "outputs": [],
   "source": [
    "# ## test\n",
    "# arg_date = '2022-01-04'\n",
    "# s3 = boto3.resource('s3')\n",
    "# bucket = s3.Bucket('demo-s3-nhhung2')\n",
    "\n",
    "\n",
    "# date_lst = return_date_list(bucket, arg_date)\n",
    "# b=[]\n",
    "# for i in date_lst:\n",
    "#     k='data/'+ i;\n",
    "#     b.append(k)\n",
    "\n",
    "# date_list=b \n",
    "\n",
    "# # print(date_list)\n",
    "# # ##Test\n",
    "# s3 = boto3.resource('s3')\n",
    "# bucket = s3.Bucket('demo-s3-nhhung2')\n",
    "\n",
    "\n",
    "# def extract(bucket, date_list):\n",
    "    \n",
    "#     def csv_to_df_nb(key):\n",
    "#         df = read_csv_to_df(bucket, key)\n",
    "#         return df\n",
    "    \n",
    "#     files = [key for date in date_list for key in list_files_in_prefix(bucket, date)]\n",
    "#     df = pd.concat(map(csv_to_df_nb, files), ignore_index=True)\n",
    "#     return df\n",
    "\n",
    "\n",
    "\n",
    "# def load(bucket, df, trg_key, trg_format):\n",
    "#     target_key = trg_key + datetime.today().strftime(\"%Y%m%d_%H%M%S\") + trg_format\n",
    "#     write_df_to_s3(bucket, df, target_key)\n",
    "#     return True\n",
    "\n",
    "\n",
    "# # def etl_report1(src_bucket, trg_bucket, date_list, trg_key, trg_format, columns, arg_date):\n",
    "# #     df = extract(src_bucket, date_list)\n",
    "# #     df = transform_report1(df, columns, arg_date)\n",
    "# #     load(trg_bucket, df, trg_key, trg_format)\n",
    "\n",
    "# df = extract(bucket, date_list)\n",
    "# columns = ['ISIN', 'Mnemonic', 'Date', 'Time', 'StartPrice', 'EndPrice', 'MinPrice', 'MaxPrice', 'TradedVolume']\n",
    "# arg_date = '2022-01-04'\n",
    "# trg_key = 'xetra_daily_report_'\n",
    "# trg_format = '.parquet'\n",
    "\n",
    "# # #no bug\n",
    "\n",
    "# def transform_report1(df, columns, arg_date):\n",
    "#     df = df.loc[:, columns]\n",
    "#     df.dropna(inplace=True)\n",
    "#     df['opening_price'] = df.sort_values(by=['Time']).groupby(['ISIN', 'Date'])['StartPrice'].transform('first')\n",
    "#     df['closing_price'] = df.sort_values(by=['Time']).groupby(['ISIN', 'Date'])['StartPrice'].transform('last')\n",
    "#     df = df.groupby(['ISIN', 'Date'], as_index=False).agg(opening_price_eur=('opening_price', 'min'), closing_price_eur=('closing_price', 'min'), minimum_price_eur=('MinPrice', 'min'), maximum_price_eur=('MaxPrice', 'max'), daily_traded_volume=('TradedVolume', 'sum'))\n",
    "#     df['prev_closing_price'] = df.sort_values(by=['Date']).groupby(['ISIN'])['closing_price_eur'].shift(1)\n",
    "#     df['change_prev_closing_%'] = (df['closing_price_eur'] - df['prev_closing_price']) / df['prev_closing_price'] * 100\n",
    "#     df.drop(columns=['prev_closing_price'], inplace=True)\n",
    "#     df = df.round(decimals=2)\n",
    "#     df = df[df.Date >= arg_date]\n",
    "#     df.reset_index(inplace=True, drop=True)\n",
    "#     return df\n",
    "\n",
    "\n",
    "\n",
    "# trg_key = 'xetra_daily_report_'\n",
    "# bucket_trg = s3.Bucket('xetra-112233')\n",
    "# def etl_report1(src_bucket, trg_bucket, date_list, trg_key, trg_format, columns, arg_date):\n",
    "#     df = extract(src_bucket, date_list)\n",
    "#     df = transform_report1(df, columns, arg_date)\n",
    "#     print(df)\n",
    "#     load(trg_bucket, df, trg_key, trg_format)\n",
    "#     return True\n",
    "\n",
    "# etl_report1(bucket, bucket_trg, date_list, trg_key, trg_format, columns, arg_date)  \n",
    "\n",
    "# # trg_bucket = s3.Bucket('xetra-112233')\n",
    "# # etl_report1(bucket, trg_bucket, date_list, trg_key, trg_format, columns, arg_date)"
   ]
  },
  {
   "cell_type": "code",
   "execution_count": null,
   "metadata": {},
   "outputs": [],
   "source": []
  },
  {
   "cell_type": "code",
   "execution_count": null,
   "metadata": {},
   "outputs": [],
   "source": [
    "# run\n",
    "\n",
    "main()"
   ]
  },
  {
   "cell_type": "markdown",
   "metadata": {},
   "source": [
    "## Reading the uploaded file"
   ]
  },
  {
   "cell_type": "code",
   "execution_count": null,
   "metadata": {},
   "outputs": [],
   "source": [
    "bucket_name_trg = 'xetra-112233'\n",
    "s3 = boto3.resource('s3')\n",
    "bucket_target = s3.Bucket(bucket_name_trg)\n",
    "\n",
    "for obj in bucket_target.objects.all():\n",
    "    print(obj.key)"
   ]
  },
  {
   "cell_type": "code",
   "execution_count": null,
   "metadata": {},
   "outputs": [],
   "source": [
    "prq_obj_init = bucket_target.Object(key='xetra_daily_report_20210423_161441.parquet').get().get('Body').read()\n",
    "data = BytesIO(prq_obj_init)\n",
    "df_prq = pd.read_parquet(data)"
   ]
  },
  {
   "cell_type": "code",
   "execution_count": null,
   "metadata": {},
   "outputs": [],
   "source": [
    "df_prq"
   ]
  },
  {
   "cell_type": "code",
   "execution_count": null,
   "metadata": {},
   "outputs": [],
   "source": []
  }
 ],
 "metadata": {
  "kernelspec": {
   "display_name": "Python 3 (ipykernel)",
   "language": "python",
   "name": "python3"
  },
  "language_info": {
   "codemirror_mode": {
    "name": "ipython",
    "version": 3
   },
   "file_extension": ".py",
   "mimetype": "text/x-python",
   "name": "python",
   "nbconvert_exporter": "python",
   "pygments_lexer": "ipython3",
   "version": "3.9.2"
  }
 },
 "nbformat": 4,
 "nbformat_minor": 4
}
